{
  "cells": [
    {
      "cell_type": "code",
      "execution_count": 1,
      "metadata": {
        "id": "47leAbLfwNHM"
      },
      "outputs": [],
      "source": [
        "import sqlite3\n",
        "filename = '../../datasets/cbdata.sqlite'\n",
        "conn = sqlite3.connect(filename)\n",
        "cur = conn.cursor()\n",
        "cur.executescript('''\n",
        "CREATE TABLE IF NOT EXISTS Publications (id TEXT NOT NULL PRIMARY KEY UNIQUE, title TEXT);\n",
        "CREATE TABLE IF NOT EXISTS Datasets (id TEXT NOT NULL PRIMARY KEY UNIQUE, title TEXT);\n",
        "CREATE TABLE IF NOT EXISTS Keywords (id INTEGER NOT NULL PRIMARY KEY AUTOINCREMENT UNIQUE, keyword TEXT);\n",
        "CREATE TABLE IF NOT EXISTS Referencing (id INTEGER NOT NULL PRIMARY KEY AUTOINCREMENT UNIQUE, publication_id INTEGER, dataset_id TEXT, keyword_id INTEGER);\n",
        "''')\n",
        "conn.commit()"
      ]
    },
    {
      "cell_type": "code",
      "execution_count": 2,
      "metadata": {
        "id": "ynwUG7fcwZuf"
      },
      "outputs": [],
      "source": [
        "import pandas as pd\n",
        "csvname = '../../datasets/osdr_references.csv'\n",
        "df = pd.read_csv(csvname)"
      ]
    },
    {
      "cell_type": "code",
      "execution_count": 3,
      "metadata": {
        "colab": {
          "base_uri": "https://localhost:8080/",
          "height": 193
        },
        "id": "CJOIy3igzyzh",
        "outputId": "068fe200-8a27-4277-91de-1a17360e59bd"
      },
      "outputs": [],
      "source": [
        "for index, data in df.iterrows():\n",
        "  data = data.fillna('')\n",
        "  dataset_title = ''\n",
        "  publication_title = data['paper_title']\n",
        "  publication_id = data['paper_pmcid']\n",
        "  dataset_id = data['dataset_accession']\n",
        "\n",
        "  cur.execute('SELECT COUNT(*) FROM Datasets WHERE id=(?)', (dataset_id,))\n",
        "  count = cur.fetchone()[0]\n",
        "  if count == 0:\n",
        "    cur.execute('INSERT INTO Datasets (id, title) VALUES (?, ?)', (dataset_id, dataset_title))\n",
        "  cur.execute('SELECT COUNT(*) FROM Publications WHERE id=(?)', (publication_id,))\n",
        "  count = cur.fetchone()[0]\n",
        "  if count == 0:\n",
        "    cur.execute('INSERT INTO Publications (id, title) VALUES (?, ?)', (publication_id, publication_title))\n",
        "\n",
        "  mission = data['mined_mission_terms'].split(';')\n",
        "  for keyword in mission:\n",
        "    keyword = keyword.lower()\n",
        "    if len(keyword) <= 1:\n",
        "      continue\n",
        "    cur.execute('SELECT COUNT(*) FROM Keywords WHERE keyword=(?)', (keyword,))\n",
        "    count = cur.fetchone()[0]\n",
        "    if count == 0:\n",
        "      cur.execute('INSERT INTO Keywords (keyword) VALUES (?)', (keyword,))\n",
        "    cur.execute('SELECT id FROM Keywords WHERE keyword=(?)', (keyword,))\n",
        "    keyword_id = cur.fetchone()[0]\n",
        "    cur.execute('INSERT INTO Referencing (publication_id, dataset_id, keyword_id) VALUES (?, ?, ?)', (publication_id, dataset_id, keyword_id))\n",
        "  \n",
        "  organism = data['mined_organism_terms'].split(';')\n",
        "  for keyword in organism:\n",
        "    keyword = keyword.lower()\n",
        "    if len(keyword) <= 1:\n",
        "      continue\n",
        "    cur.execute('SELECT COUNT(*) FROM Keywords WHERE keyword=(?)', (keyword,))\n",
        "    count = cur.fetchone()[0]\n",
        "    if count == 0:\n",
        "      cur.execute('INSERT INTO Keywords (keyword) VALUES (?)', (keyword,))\n",
        "    cur.execute('SELECT id FROM Keywords WHERE keyword=(?)', (keyword,))\n",
        "    keyword_id = cur.fetchone()[0]\n",
        "    cur.execute('INSERT INTO Referencing (publication_id, dataset_id, keyword_id) VALUES (?, ?, ?)', (publication_id, dataset_id, keyword_id))\n",
        "  \n",
        "  assay = data['mined_assay_terms'].split(';')\n",
        "  for keyword in assay:\n",
        "    keyword = keyword.lower()\n",
        "    if len(keyword) <= 1:\n",
        "      continue\n",
        "    cur.execute('SELECT COUNT(*) FROM Keywords WHERE keyword=(?)', (keyword,))\n",
        "    count = cur.fetchone()[0]\n",
        "    if count == 0:\n",
        "      cur.execute('INSERT INTO Keywords (keyword) VALUES (?)', (keyword,))\n",
        "    cur.execute('SELECT id FROM Keywords WHERE keyword=(?)', (keyword,))\n",
        "    keyword_id = cur.fetchone()[0]\n",
        "    cur.execute('INSERT INTO Referencing (publication_id, dataset_id, keyword_id) VALUES (?, ?, ?)', (publication_id, dataset_id, keyword_id))\n",
        "\n",
        "  cur.execute('INSERT INTO Referencing (publication_id, dataset_id) VALUES (?, ?)', (publication_id, dataset_id))\n",
        "conn.commit()"
      ]
    }
  ],
  "metadata": {
    "colab": {
      "provenance": []
    },
    "kernelspec": {
      "display_name": "Python 3",
      "name": "python3"
    },
    "language_info": {
      "codemirror_mode": {
        "name": "ipython",
        "version": 3
      },
      "file_extension": ".py",
      "mimetype": "text/x-python",
      "name": "python",
      "nbconvert_exporter": "python",
      "pygments_lexer": "ipython3",
      "version": "3.13.5"
    }
  },
  "nbformat": 4,
  "nbformat_minor": 0
}
