{
  "nbformat": 4,
  "nbformat_minor": 0,
  "metadata": {
    "colab": {
      "provenance": []
    },
    "kernelspec": {
      "name": "python3",
      "display_name": "Python 3"
    },
    "language_info": {
      "name": "python"
    }
  },
  "cells": [
    {
      "cell_type": "code",
      "source": [
        "import sqlite3\n",
        "filename = 'cbdata.sqlite'\n",
        "conn = sqlite3.connect(filename)\n",
        "cur = conn.cursor()\n",
        "cur.executescript('''\n",
        "CREATE TABLE IF NOT EXISTS Publications (id TEXT NOT NULL PRIMARY KEY UNIQUE, title TEXT);\n",
        "CREATE TABLE IF NOT EXISTS Datasets (id TEXT NOT NULL PRIMARY KEY UNIQUE, title TEXT);\n",
        "CREATE TABLE IF NOT EXISTS Referencing (id INTEGER NOT NULL PRIMARY KEY AUTOINCREMENT UNIQUE, publication_id INTEGER, dataset_id TEXT);\n",
        "''')\n",
        "conn.commit()"
      ],
      "metadata": {
        "id": "47leAbLfwNHM"
      },
      "execution_count": null,
      "outputs": []
    },
    {
      "cell_type": "code",
      "source": [
        "dataset_title = ''\n",
        "publication_title = ''\n",
        "publication_id = 0\n",
        "dataset_id = 0"
      ],
      "metadata": {
        "id": "ynwUG7fcwZuf"
      },
      "execution_count": null,
      "outputs": []
    },
    {
      "cell_type": "code",
      "source": [
        "cur.execute('INSERT INTO Publications (id, title) VALUES (?, ?)', (publication_id, publication_title))\n",
        "cur.execute('INSERT INTO Datasets (id, title) VALUES (?, ?)', (dataset_id, dataset_title))\n",
        "cur.execute('INSERT INTO Referencing (publication_id, dataset_id) VALUES (?, ?)', (publication_id, dataset_id))\n",
        "conn.commit()"
      ],
      "metadata": {
        "colab": {
          "base_uri": "https://localhost:8080/",
          "height": 193
        },
        "id": "CJOIy3igzyzh",
        "outputId": "068fe200-8a27-4277-91de-1a17360e59bd"
      },
      "execution_count": null,
      "outputs": [
        {
          "output_type": "error",
          "ename": "OperationalError",
          "evalue": "database is locked",
          "traceback": [
            "\u001b[0;31m---------------------------------------------------------------------------\u001b[0m",
            "\u001b[0;31mOperationalError\u001b[0m                          Traceback (most recent call last)",
            "\u001b[0;32m/tmp/ipython-input-3913743989.py\u001b[0m in \u001b[0;36m<cell line: 0>\u001b[0;34m()\u001b[0m\n\u001b[0;32m----> 1\u001b[0;31m \u001b[0mcur\u001b[0m\u001b[0;34m.\u001b[0m\u001b[0mexecute\u001b[0m\u001b[0;34m(\u001b[0m\u001b[0;34m'INSERT INTO Publications (id, title) VALUES (?, ?)'\u001b[0m\u001b[0;34m,\u001b[0m \u001b[0;34m(\u001b[0m\u001b[0mpublication_id\u001b[0m\u001b[0;34m,\u001b[0m \u001b[0mpublication_title\u001b[0m\u001b[0;34m)\u001b[0m\u001b[0;34m)\u001b[0m\u001b[0;34m\u001b[0m\u001b[0;34m\u001b[0m\u001b[0m\n\u001b[0m\u001b[1;32m      2\u001b[0m \u001b[0mcur\u001b[0m\u001b[0;34m.\u001b[0m\u001b[0mexecute\u001b[0m\u001b[0;34m(\u001b[0m\u001b[0;34m'INSERT INTO Datasets (id, title) VALUES (?, ?)'\u001b[0m\u001b[0;34m,\u001b[0m \u001b[0;34m(\u001b[0m\u001b[0mdataset_id\u001b[0m\u001b[0;34m,\u001b[0m \u001b[0mdataset_title\u001b[0m\u001b[0;34m)\u001b[0m\u001b[0;34m)\u001b[0m\u001b[0;34m\u001b[0m\u001b[0;34m\u001b[0m\u001b[0m\n\u001b[1;32m      3\u001b[0m \u001b[0mcur\u001b[0m\u001b[0;34m.\u001b[0m\u001b[0mexecute\u001b[0m\u001b[0;34m(\u001b[0m\u001b[0;34m'INSERT INTO Referencing (publication_id, dataset_id) VALUES (?, ?)'\u001b[0m\u001b[0;34m,\u001b[0m \u001b[0;34m(\u001b[0m\u001b[0mpublication_id\u001b[0m\u001b[0;34m,\u001b[0m \u001b[0mdataset_id\u001b[0m\u001b[0;34m)\u001b[0m\u001b[0;34m)\u001b[0m\u001b[0;34m\u001b[0m\u001b[0;34m\u001b[0m\u001b[0m\n\u001b[1;32m      4\u001b[0m \u001b[0mconn\u001b[0m\u001b[0;34m.\u001b[0m\u001b[0mcommit\u001b[0m\u001b[0;34m(\u001b[0m\u001b[0;34m)\u001b[0m\u001b[0;34m\u001b[0m\u001b[0;34m\u001b[0m\u001b[0m\n",
            "\u001b[0;31mOperationalError\u001b[0m: database is locked"
          ]
        }
      ]
    }
  ]
}